{
 "cells": [
  {
   "cell_type": "markdown",
   "metadata": {},
   "source": [
    "We need to make the cooccurrence matrices to then calculate the pointwise mutual information (PMI) values to pass to the Dynamic Word Embedding model. "
   ]
  },
  {
   "cell_type": "code",
   "execution_count": 1,
   "metadata": {},
   "outputs": [
    {
     "name": "stdout",
     "output_type": "stream",
     "text": [
      "[('god', 3156851), ('one', 2268075), ('upon', 2256671), ('may', 2243437), ('shall', 2129379), ('us', 1831379), ('man', 1797155), ('would', 1713276), ('great', 1654792), ('men', 1574743)]\n"
     ]
    }
   ],
   "source": [
    "from csv import DictReader\n",
    "from collections import Counter\n",
    "\n",
    "# read in the freq counter\n",
    "totalFreqDistFile = '/Users/bkitano/Desktop/Classes/spring_2019/thesis/embeddings/totalFreqDist.csv'\n",
    "\n",
    "with open(totalFreqDistFile) as f:\n",
    "    reader = DictReader(f, fieldnames=['word', 'count'])\n",
    "    freqDist = Counter({row['word']: int(row['count']) for row in reader})\n",
    "\n",
    "print(freqDist.most_common(10))\n",
    "            "
   ]
  },
  {
   "cell_type": "code",
   "execution_count": 2,
   "metadata": {},
   "outputs": [
    {
     "name": "stdout",
     "output_type": "stream",
     "text": [
      "463231888\n"
     ]
    }
   ],
   "source": [
    "print(sum(freqDist.values()))\n",
    "# 463,231,888 words"
   ]
  },
  {
   "cell_type": "code",
   "execution_count": 3,
   "metadata": {},
   "outputs": [],
   "source": [
    "frequentWords = [w for w in freqDist.keys() if freqDist[w] > 200]\n",
    "# 71670, 3x than paper"
   ]
  },
  {
   "cell_type": "code",
   "execution_count": 4,
   "metadata": {},
   "outputs": [
    {
     "name": "stdout",
     "output_type": "stream",
     "text": [
      "71670\n",
      "['god', 'one', 'upon', 'may', 'shall', 'us', 'man', 'would', 'great', 'men']\n"
     ]
    }
   ],
   "source": [
    "print(len(frequentWords))\n",
    "print(frequentWords[0:10])"
   ]
  },
  {
   "cell_type": "code",
   "execution_count": 5,
   "metadata": {},
   "outputs": [],
   "source": [
    "# create and save hashmap of word to ids\n",
    "wordToID = dict(zip(frequentWords, range(len(freqDist))))"
   ]
  },
  {
   "cell_type": "code",
   "execution_count": 6,
   "metadata": {},
   "outputs": [],
   "source": [
    "IDToWord = dict([(wordToID[word], word) for word in wordToID.keys()])"
   ]
  },
  {
   "cell_type": "code",
   "execution_count": 7,
   "metadata": {},
   "outputs": [
    {
     "data": {
      "text/plain": [
       "32830"
      ]
     },
     "execution_count": 7,
     "metadata": {},
     "output_type": "execute_result"
    }
   ],
   "source": [
    "import os\n",
    "from os import listdir\n",
    "from os.path import isfile, join\n",
    "\n",
    "textPath = '/Users/bkitano/Desktop/Classes/spring_2019/thesis/corpus/cleaned_txt/'\n",
    "\n",
    "textFiles = [f for f in listdir(textPath) if isfile(join(textPath, f))]\n",
    "\n",
    "len(textFiles)"
   ]
  },
  {
   "cell_type": "code",
   "execution_count": 8,
   "metadata": {},
   "outputs": [],
   "source": [
    "import numpy as np\n",
    "from scipy.sparse import dok_matrix\n",
    "df = dok_matrix((len(frequentWords), len(frequentWords)))"
   ]
  },
  {
   "cell_type": "code",
   "execution_count": 9,
   "metadata": {},
   "outputs": [
    {
     "data": {
      "text/plain": [
       "(71670, 71670)"
      ]
     },
     "execution_count": 9,
     "metadata": {},
     "output_type": "execute_result"
    }
   ],
   "source": [
    "df.shape\n",
    "# df['god']\n",
    "# df['god']['god'] should store the total number of appearances\n",
    "# df will be a diagonal matrix"
   ]
  },
  {
   "cell_type": "code",
   "execution_count": 11,
   "metadata": {},
   "outputs": [],
   "source": [
    "def asdf( args ):\n",
    "\n",
    "    word = args[0] \n",
    "    window = args[1] \n",
    "    wordMap = args[3]\n",
    "    \n",
    "    for coword in window:\n",
    "        try:\n",
    "            wordID = wordMap[word]\n",
    "            cowordID = wordMap[coword]\n",
    "            (args[2])[wordID, cowordID] += 1.0\n",
    "        except:\n",
    "            print(word)"
   ]
  },
  {
   "cell_type": "code",
   "execution_count": 12,
   "metadata": {},
   "outputs": [],
   "source": [
    "import nltk\n",
    "\n",
    "cooccurrencePath = '/Users/bkitano/Desktop/Classes/spring_2019/thesis/embeddings/cooccur/'\n",
    "L = 5 # window size, or L in the paper\n",
    "# window: x1 x2 ... xL W y1 y2 ... yL\n",
    "\n",
    "# https://stackoverflow.com/questions/17458751/python-symmetric-word-matrix-using-nltk\n",
    "# need to parallelize\n",
    "\n",
    "with open(textPath + textFiles[0], 'r+') as f:\n",
    "    text = f.read()\n",
    "    tokens = [w for w in nltk.word_tokenize(text) if w in frequentWords]\n",
    "#     for i in range(L, len(tokens)-1):\n",
    "    for i in range(L, L+2):\n",
    "        word = tokens[i]\n",
    "        window = tokens[i-L : i + L + 1]\n",
    "        asdf((word, window, df, wordToID))\n",
    "          "
   ]
  },
  {
   "cell_type": "code",
   "execution_count": 14,
   "metadata": {},
   "outputs": [
    {
     "name": "stdout",
     "output_type": "stream",
     "text": [
      "  (17048, 1779)\t1.0\n",
      "  (17048, 2746)\t1.0\n",
      "  (17048, 2314)\t1.0\n",
      "  (17048, 891)\t1.0\n",
      "  (17048, 3265)\t1.0\n",
      "  (17048, 17048)\t1.0\n",
      "  (17048, 2099)\t1.0\n",
      "  (17048, 682)\t1.0\n",
      "  (17048, 600)\t1.0\n",
      "  (17048, 1066)\t1.0\n",
      "  (17048, 39257)\t1.0\n",
      "  (2099, 2746)\t1.0\n",
      "  (2099, 2314)\t1.0\n",
      "  (2099, 891)\t1.0\n",
      "  (2099, 3265)\t1.0\n",
      "  (2099, 17048)\t1.0\n",
      "  (2099, 2099)\t1.0\n",
      "  (2099, 682)\t1.0\n",
      "  (2099, 600)\t1.0\n",
      "  (2099, 1066)\t1.0\n",
      "  (2099, 39257)\t1.0\n",
      "  (2099, 115)\t1.0\n"
     ]
    }
   ],
   "source": [
    "print(df)"
   ]
  },
  {
   "cell_type": "code",
   "execution_count": null,
   "metadata": {},
   "outputs": [],
   "source": []
  }
 ],
 "metadata": {
  "kernelspec": {
   "display_name": "Python 3",
   "language": "python",
   "name": "python3"
  },
  "language_info": {
   "codemirror_mode": {
    "name": "ipython",
    "version": 3
   },
   "file_extension": ".py",
   "mimetype": "text/x-python",
   "name": "python",
   "nbconvert_exporter": "python",
   "pygments_lexer": "ipython3",
   "version": "3.7.1"
  }
 },
 "nbformat": 4,
 "nbformat_minor": 2
}
