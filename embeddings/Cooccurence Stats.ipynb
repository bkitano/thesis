{
 "cells": [
  {
   "cell_type": "markdown",
   "metadata": {},
   "source": [
    "We need to make the cooccurrence matrices to then calculate the pointwise mutual information (PMI) values to pass to the Dynamic Word Embedding model. "
   ]
  },
  {
   "cell_type": "code",
   "execution_count": 1,
   "metadata": {},
   "outputs": [],
   "source": [
    "from csv import DictReader\n",
    "from collections import Counter\n",
    "\n",
    "# read in the freq counter\n",
    "totalFreqDistFile = '/Users/bkitano/Desktop/Classes/spring_2019/thesis/embeddings/totalFreqDist.csv'\n",
    "\n",
    "with open(totalFreqDistFile) as f:\n",
    "    reader = DictReader(f, fieldnames=['word', 'count'])\n",
    "    freqDist = Counter({row['word']: int(row['count']) for row in reader})\n",
    "            "
   ]
  },
  {
   "cell_type": "code",
   "execution_count": 2,
   "metadata": {},
   "outputs": [
    {
     "name": "stdout",
     "output_type": "stream",
     "text": [
      "463231888\n"
     ]
    }
   ],
   "source": [
    "print(sum(freqDist.values()))\n",
    "# 463,231,888 words"
   ]
  },
  {
   "cell_type": "code",
   "execution_count": 3,
   "metadata": {},
   "outputs": [],
   "source": [
    "frequentWords = [w for w in freqDist.keys() if freqDist[w] > 200]\n",
    "# 71670, 3x than paper"
   ]
  },
  {
   "cell_type": "code",
   "execution_count": 4,
   "metadata": {},
   "outputs": [
    {
     "name": "stdout",
     "output_type": "stream",
     "text": [
      "71670\n",
      "['god', 'one', 'upon', 'may', 'shall', 'us', 'man', 'would', 'great', 'men']\n"
     ]
    }
   ],
   "source": [
    "print(len(frequentWords))\n",
    "print(frequentWords[0:10])"
   ]
  },
  {
   "cell_type": "code",
   "execution_count": 5,
   "metadata": {},
   "outputs": [],
   "source": [
    "# create and save hashmap of word to ids\n",
    "wordToID = dict(zip(frequentWords, range(len(freqDist))))"
   ]
  },
  {
   "cell_type": "code",
   "execution_count": 6,
   "metadata": {},
   "outputs": [],
   "source": [
    "IDToWord = dict([(wordToID[word], word) for word in wordToID.keys()])"
   ]
  },
  {
   "cell_type": "code",
   "execution_count": 61,
   "metadata": {},
   "outputs": [],
   "source": [
    "import numpy as np\n",
    "from scipy.sparse import dok_matrix, csr_matrix\n",
    "from multiprocessing import Pool\n",
    "\n",
    "def cooccurDummy( args, wordMap, V ):\n",
    "\n",
    "    word = args[0] \n",
    "    window = args[1] \n",
    "    df = dok_matrix((V, V))\n",
    "    for coword in window:\n",
    "        try:\n",
    "            wordID = wordMap[word]\n",
    "            cowordID = wordMap[coword]\n",
    "            df[wordID, cowordID] += 1\n",
    "        except:\n",
    "            print(word)\n",
    "    csr = df.tocsr()\n",
    "    return csr\n",
    "\n",
    "def cooccur(args):\n",
    "    return cooccurDummy(args, wordToID, len(frequentWords))\n",
    "\n",
    "def parallelF(token):\n",
    "    try:\n",
    "        wordToID[token]\n",
    "        return token\n",
    "    except:\n",
    "        return None\n",
    "    \n",
    "def parallelFilter(tokens, p):\n",
    "    with Pool(processes = p) as pool:\n",
    "        results = pool.map(parallelF, tokens)\n",
    "        pool.close()\n",
    "        pool.join()\n",
    "    return results"
   ]
  },
  {
   "cell_type": "code",
   "execution_count": 19,
   "metadata": {},
   "outputs": [],
   "source": [
    "def sum_sparse(m):\n",
    "    x = np.zeros(m[0].shape)\n",
    "    for a in m:\n",
    "        ri = np.repeat(np.arange(a.shape[0]),np.diff(a.indptr))\n",
    "        x[ri,a.indices] += a.data\n",
    "    return x"
   ]
  },
  {
   "cell_type": "code",
   "execution_count": 17,
   "metadata": {},
   "outputs": [],
   "source": [
    "import nltk\n",
    "import os\n",
    "from os import listdir\n",
    "from os.path import isfile, join\n",
    "\n",
    "textPath = '/Users/bkitano/Desktop/Classes/Spring_2019/thesis/corpus/cleaned_txt/'\n",
    "\n",
    "textFiles = [f for f in listdir(textPath) if isfile(join(textPath, f))]\n",
    "cooccurrencePath = '/Users/bkitano/Desktop/Classes/spring_2019/thesis/embeddings/cooccur/'\n",
    "L = 5 # window size, or L in the paper\n",
    "# window: x1 x2 ... xL W y1 y2 ... yL\n",
    "\n",
    "# https://stackoverflow.com/questions/17458751/python-symmetric-word-matrix-using-nltk\n",
    "# need to parallelize\n",
    "\n",
    "with open(textPath + textFiles[45], 'r+') as f:\n",
    "    text = f.read().split('\\n')[0]\n",
    "    # need to parallelize it\n",
    "    tokens = [t for t in parallelFilter(nltk.word_tokenize(text), 5) if t is not None ]"
   ]
  },
  {
   "cell_type": "code",
   "execution_count": 18,
   "metadata": {},
   "outputs": [],
   "source": [
    "wordTarget = tokens[L:len(tokens) - L]\n",
    "windowTarget = [tokens[i-L:i + L + 1] for i in range(L, len(tokens) - L)]\n",
    "\n",
    "pairs = list(zip(wordTarget, windowTarget))"
   ]
  },
  {
   "cell_type": "code",
   "execution_count": 20,
   "metadata": {},
   "outputs": [],
   "source": [
    "import scipy.sparse as sp\n",
    "rows, cols, vals = [], [], []\n",
    "for word, window in pairs:\n",
    "    for coword in window:\n",
    "        if wordToID.get(word) is not None:\n",
    "            rows.append(wordToID[word])\n",
    "            cols.append(wordToID[coword])\n",
    "            vals.append(1)\n",
    "X = sp.csr_matrix((vals, (rows, cols)))"
   ]
  },
  {
   "cell_type": "code",
   "execution_count": null,
   "metadata": {},
   "outputs": [],
   "source": []
  }
 ],
 "metadata": {
  "kernelspec": {
   "display_name": "Python 3",
   "language": "python",
   "name": "python3"
  },
  "language_info": {
   "codemirror_mode": {
    "name": "ipython",
    "version": 3
   },
   "file_extension": ".py",
   "mimetype": "text/x-python",
   "name": "python",
   "nbconvert_exporter": "python",
   "pygments_lexer": "ipython3",
   "version": "3.7.1"
  }
 },
 "nbformat": 4,
 "nbformat_minor": 2
}
