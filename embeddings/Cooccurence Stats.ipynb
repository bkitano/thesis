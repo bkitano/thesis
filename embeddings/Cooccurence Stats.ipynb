{
 "cells": [
  {
   "cell_type": "markdown",
   "metadata": {},
   "source": [
    "We need to make the cooccurrence matrices to then calculate the pointwise mutual information (PMI) values to pass to the Dynamic Word Embedding model. "
   ]
  },
  {
   "cell_type": "code",
   "execution_count": null,
   "metadata": {},
   "outputs": [],
   "source": [
    "from csv import DictReader\n",
    "from collections import Counter\n",
    "\n",
    "# read in the freq counter\n",
    "totalFreqDistFile = '/Users/bkitano/Desktop/Classes/spring_2019/thesis/embeddings/totalFreqDist.csv'\n",
    "\n",
    "with open(totalFreqDistFile) as f:\n",
    "    reader = DictReader(f, fieldnames=['word', 'count'])\n",
    "    freqDist = Counter({row['word']: int(row['count']) for row in reader})\n",
    "\n",
    "print(freqDist.most_common(10))\n",
    "            "
   ]
  },
  {
   "cell_type": "code",
   "execution_count": null,
   "metadata": {},
   "outputs": [],
   "source": [
    "print(sum(freqDist.values()))\n",
    "# 463,231,888 words"
   ]
  },
  {
   "cell_type": "code",
   "execution_count": null,
   "metadata": {},
   "outputs": [],
   "source": [
    "frequentWords = [w for w in freqDist.keys() if freqDist[w] > 200]\n",
    "# 71670, 3x than paper"
   ]
  },
  {
   "cell_type": "code",
   "execution_count": null,
   "metadata": {},
   "outputs": [],
   "source": [
    "print(len(frequentWords))\n",
    "print(frequentWords[0:10])"
   ]
  },
  {
   "cell_type": "code",
   "execution_count": null,
   "metadata": {},
   "outputs": [],
   "source": [
    "# create and save hashmap of word to ids\n",
    "wordToID = dict(zip(frequentWords, range(len(freqDist))))"
   ]
  },
  {
   "cell_type": "code",
   "execution_count": null,
   "metadata": {},
   "outputs": [],
   "source": [
    "IDToWord = dict([(wordToID[word], word) for word in wordToID.keys()])"
   ]
  },
  {
   "cell_type": "code",
   "execution_count": null,
   "metadata": {},
   "outputs": [],
   "source": [
    "import numpy as np\n",
    "from scipy.sparse import dok_matrix\n",
    "from scipy.sparse import csr_matrix\n",
    "\n",
    "def cooccurDummy( args, wordMap, V ):\n",
    "\n",
    "    word = args[0] \n",
    "    window = args[1] \n",
    "    df = dok_matrix((V, V))\n",
    "    for coword in window:\n",
    "        try:\n",
    "            wordID = wordMap[word]\n",
    "            cowordID = wordMap[coword]\n",
    "            df[wordID, cowordID] += 1.0\n",
    "        except:\n",
    "            print(word)\n",
    "    csr = df.tocsr()\n",
    "    return csr\n",
    "\n",
    "def cooccur(args):\n",
    "    return cooccurDummy(args, wordToID, len(frequentWords))"
   ]
  },
  {
   "cell_type": "code",
   "execution_count": null,
   "metadata": {},
   "outputs": [],
   "source": [
    "import nltk\n",
    "import os\n",
    "from os import listdir\n",
    "from os.path import isfile, join\n",
    "\n",
    "textPath = '/Users/bkitano/Desktop/Classes/Spring_2019/thesis/corpus/cleaned_txt/'\n",
    "\n",
    "textFiles = [f for f in listdir(textPath) if isfile(join(textPath, f))]\n",
    "cooccurrencePath = '/Users/bkitano/Desktop/Classes/spring_2019/thesis/embeddings/cooccur/'\n",
    "L = 5 # window size, or L in the paper\n",
    "# window: x1 x2 ... xL W y1 y2 ... yL\n",
    "\n",
    "# https://stackoverflow.com/questions/17458751/python-symmetric-word-matrix-using-nltk\n",
    "# need to parallelize\n",
    "\n",
    "with open(textPath + textFiles[0], 'r+') as f:\n",
    "    text = f.read()\n",
    "    tokens = [w for w in nltk.word_tokenize(text) if w in frequentWords]\n",
    "#     for i in range(L, len(tokens)-1):"
   ]
  },
  {
   "cell_type": "code",
   "execution_count": null,
   "metadata": {},
   "outputs": [],
   "source": [
    "wordTarget = tokens[L:len(tokens) - L]\n",
    "windowTarget = [tokens[i-L:i + L + 1] for i in range(L, len(tokens) - L)]\n",
    "\n",
    "pairs = list(zip(wordTarget, windowTarget))\n",
    "#     for i in range(L, L+2):\n",
    "#         word = tokens[i]\n",
    "#         window = tokens[i-L : i + L + 1]\n",
    "#         asdf((word, window, df, wordToID))"
   ]
  },
  {
   "cell_type": "code",
   "execution_count": null,
   "metadata": {},
   "outputs": [],
   "source": [
    "h = cooccur(pairs[1])\n",
    "print(h)"
   ]
  },
  {
   "cell_type": "code",
   "execution_count": null,
   "metadata": {},
   "outputs": [],
   "source": [
    "from multiprocessing import Pool\n",
    "\n",
    "with Pool(processes=4) as pool:\n",
    "    results = pool.map(cooccur, pairs)\n",
    "    pool.close()\n",
    "    pool.join()\n",
    "    print('All sub-processes done.')"
   ]
  },
  {
   "cell_type": "code",
   "execution_count": null,
   "metadata": {},
   "outputs": [],
   "source": [
    "def sum_sparse(m):\n",
    "    x = np.zeros(m[0].shape)\n",
    "    for a in m:\n",
    "        ri = np.repeat(np.arange(a.shape[0]),np.diff(a.indptr))\n",
    "        x[ri,a.indices] += a.data\n",
    "    return x"
   ]
  },
  {
   "cell_type": "code",
   "execution_count": null,
   "metadata": {},
   "outputs": [],
   "source": [
    "agg = sum_sparse(results)"
   ]
  },
  {
   "cell_type": "code",
   "execution_count": null,
   "metadata": {},
   "outputs": [],
   "source": [
    "import pickle\n",
    "pickle.dump(agg, cooccurrencePath + \"test.p\")"
   ]
  },
  {
   "cell_type": "code",
   "execution_count": null,
   "metadata": {},
   "outputs": [],
   "source": []
  }
 ],
 "metadata": {
  "kernelspec": {
   "display_name": "Python 3",
   "language": "python",
   "name": "python3"
  },
  "language_info": {
   "codemirror_mode": {
    "name": "ipython",
    "version": 3
   },
   "file_extension": ".py",
   "mimetype": "text/x-python",
   "name": "python",
   "nbconvert_exporter": "python",
   "pygments_lexer": "ipython3",
   "version": "3.7.1"
  }
 },
 "nbformat": 4,
 "nbformat_minor": 2
}
